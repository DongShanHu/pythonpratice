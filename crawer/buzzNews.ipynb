{
 "cells": [
  {
   "cell_type": "code",
   "execution_count": 3,
   "metadata": {
    "scrolled": true
   },
   "outputs": [
    {
     "name": "stdout",
     "output_type": "stream",
     "text": [
      "\n",
      "<!DOCTYPE html>\n",
      "\n",
      "<html xmlns=\"http://www.w3.org/1999/xhtml\">\n",
      "<head><meta content=\"text/html; charset=utf-8\" http-equiv=\"Content-Type\"/><title>\n",
      "</title>\n",
      "<script>\r\n",
      "        var sOpen=0;\r\n",
      "        if(sOpen==\"1\"){\r\n",
      "            var InterVal = setInterval(function () {\r\n",
      "                clearInterval(InterVal);\r\n",
      "                location.reload();\r\n",
      "            }, 30000)\r\n",
      "        }\r\n",
      "    </script>\n",
      "</head>\n",
      "<body>\n",
      "<form action=\"./AutoUpdate.aspx\" id=\"form1\" method=\"post\">\n",
      "<input id=\"__VIEWSTATE\" name=\"__VIEWSTATE\" type=\"hidden\" value=\"/wEPDwUKMTc2MTg4NDc4NmRkQmXbnaIiPZS0ONtYnnFBxO2KabU=\"/>\n",
      "<input id=\"__VIEWSTATEGENERATOR\" name=\"__VIEWSTATEGENERATOR\" type=\"hidden\" value=\"5EAAEB93\"/>\n",
      "<script type=\"text/javascript\">\r\n",
      "//<![CDATA[\r\n",
      "parent.EvalUrlFun(' GetBkXml=\"\"; GetDefaultPage=\"\"; GetFavoriteInfo=\"\"; GetFullname=\"\"; GetGameCount=\"\"; GetGameData=\"\"; GetJsonAfo=\"\"; GetJsonBbo=\"\"; GetJsonBko=\"\"; GetJsonBmo=\"\"; GetJsonBvo=\"\"; GetJsonCorner=\"\"; GetJsonEso=\"\"; GetJsonHbo=\"\"; GetJsonIho=\"\"; GetJsonVlo=\"\"; GetMarquee=\"\"; GetMarqueeList=\"\"; GetTs=\"\";')//]]>\r\n",
      "</script>\n",
      "</form>\n",
      "</body>\n",
      "</html>\n",
      "\n"
     ]
    }
   ],
   "source": [
    "import requests \n",
    "from bs4 import BeautifulSoup\n",
    "\n",
    "target_url = \"https://buzzorange.com/techorange/\"\n",
    "rs = requests.session()\n",
    "res = rs.get(target_url, verify=False)\n",
    "soup = BeautifulSoup(res.text, 'html.parser')\n",
    "content = \"\"\n",
    "print(soup)\n"
   ]
  },
  {
   "cell_type": "code",
   "execution_count": 2,
   "metadata": {},
   "outputs": [
    {
     "name": "stdout",
     "output_type": "stream",
     "text": [
      "【TO 直播】科技部嚴選，台灣 10 家最酷科技新創即將揭曉！\n",
      "加入 TechOrange，成為台灣產業、財經前線報導先鋒\n",
      "台灣行動支付叫好不叫座？三大國際 pay 去年只佔信用卡簽帳金額 0.57%\n",
      "日本豐田員工打造真實版「皮克斯檯燈」：能自動跟隨還懂得叫你起床！\n",
      "你還沒有說跳槽就跳槽的能力，那就先收起玻璃心比較實際！\n",
      "同事問：為什麼你的 PPT 1 秒就做好？「因為我的 Office 內建 AI 功能喔~」\n",
      "區塊鏈「牙刷」到底能幹嘛？盤點所有因泡沫而生的區塊鏈消費品\n",
      "主管不要灌我酒！怎麼拒絕職場「乾來乾去」的敬酒文化？\n",
      "Netflix 成功，卻被所有人忽略的秘密功臣：遙控器\n"
     ]
    }
   ],
   "source": [
    "for data in soup.select('header.entry-header a'):\n",
    "    title = data.text\n",
    "    link =data['href']\n",
    "    #content += \"{}\\n{}\\n\\n\".format(title,link)\n",
    "    print(title)"
   ]
  },
  {
   "cell_type": "code",
   "execution_count": 1,
   "metadata": {},
   "outputs": [
    {
     "name": "stderr",
     "output_type": "stream",
     "text": [
      "D:\\Anaconda\\lib\\site-packages\\urllib3\\connectionpool.py:858: InsecureRequestWarning: Unverified HTTPS request is being made. Adding certificate verification is strongly advised. See: https://urllib3.readthedocs.io/en/latest/advanced-usage.html#ssl-warnings\n",
      "  InsecureRequestWarning)\n"
     ]
    },
    {
     "name": "stdout",
     "output_type": "stream",
     "text": [
      "<class 'requests.models.Response'>\n"
     ]
    }
   ],
   "source": [
    "import requests \n",
    "from bs4 import BeautifulSoup\n",
    "target_url = \"https://www.wearn.com/bbs/t911001.html\"\n",
    "rs = requests.session()\n",
    "res = rs.get(target_url, verify=False)\n",
    "print(type(res))\n",
    "res.encoding=\"big5\"\n",
    "\n",
    "soup = BeautifulSoup(res.text, 'html.parser')\n",
    "content = \"\"\n",
    "\n"
   ]
  },
  {
   "cell_type": "code",
   "execution_count": 26,
   "metadata": {},
   "outputs": [
    {
     "name": "stdout",
     "output_type": "stream",
     "text": [
      "\n",
      "\n",
      "\n",
      "\n",
      "\n",
      "\n",
      "所有數據及內容僅供參考，投資應獨立判斷並自負風險，聚財不負任何法律相關責任\n",
      " 聲望：0 個人著作\n",
      " 另開安泰銀又中獎！必翔崩盤前借走4億！高價質押股票、炒股、崩盤、搜索、約談、停牌…\n",
      " 另開\n",
      "證交所表示，必翔(1729)由於沒交第1季季報，自5/18日起停止買賣，此外，必翔創辦人伍必翔因為炒股案於5/16日遭調查局搜索約談，必翔停牌時股價已經崩盤，在連續11根跌停板後只剩17.3元。更壞的消息是：必翔大股東以股票質押向安泰銀行借走4億元，借款金額為每股40元，經本報查證後、安泰銀行拒絕說明。\n",
      "▲譚清連19版：必翔質押近20億根據專欄作家譚清連在本期19版披露的內幕消息指出，必翔大股東向銀行共質借4萬6千張，總共借走將近20億元，目前確知安泰銀行至少持有1萬張必翔質押的股票，借出4億元，也就是借款金額為每股40元。經本報向安泰銀行查證，安泰銀行的答覆是：「本行一貫立場為不對個別案件發表評論，請知悉。」 另開\n",
      " 另開\n",
      "文章著作權及責任歸作者所有，請勿任意轉貼，不作為投資依據，亦不代表聚財立場所有數據及內容僅供參考，投資應獨立判斷並自負風險，聚財不負任何法律相關責任\n"
     ]
    }
   ],
   "source": [
    "for header in soup.select('div br'):\n",
    "    bigTitle=header.text\n",
    "    print(bigTitle)\n",
    "for data in soup.select('div p'):\n",
    "    title = data.text\n",
    "    content += \"{}\\n{}\\n\\n\".format(bigTitle,title)\n",
    "    print(title)"
   ]
  },
  {
   "cell_type": "code",
   "execution_count": null,
   "metadata": {
    "collapsed": true
   },
   "outputs": [],
   "source": []
  }
 ],
 "metadata": {
  "kernelspec": {
   "display_name": "Python 3",
   "language": "python",
   "name": "python3"
  },
  "language_info": {
   "codemirror_mode": {
    "name": "ipython",
    "version": 3
   },
   "file_extension": ".py",
   "mimetype": "text/x-python",
   "name": "python",
   "nbconvert_exporter": "python",
   "pygments_lexer": "ipython3",
   "version": "3.6.3"
  }
 },
 "nbformat": 4,
 "nbformat_minor": 2
}
