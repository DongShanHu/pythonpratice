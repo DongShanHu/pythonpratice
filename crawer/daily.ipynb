{
 "cells": [
  {
   "cell_type": "code",
   "execution_count": 6,
   "metadata": {},
   "outputs": [],
   "source": [
    "import requests \n",
    "from bs4 import BeautifulSoup\n",
    "import urllib3\n"
   ]
  },
  {
   "cell_type": "code",
   "execution_count": null,
   "metadata": {},
   "outputs": [],
   "source": [
    "def daily(data):\n",
    "    item=['Capricorn','Aquarius','Pisces','Aries','Taurus','Gemini','Cancer','Leo','Virgo','Libra','Scorpio','Sagittarius']\n",
    "    for i in item:\n",
    "        target_url = \"https://www.daily-zodiac.com/mobile/zodiac/\"+i\n",
    "        rs = requests.session()\n",
    "        res = rs.get(target_url, verify=False)\n",
    "        soup = BeautifulSoup(res.text, 'html.parser')\n",
    "        content = \"\"\n",
    "\n",
    "\n",
    "        text2=soup.select('div.text li')\n",
    "        date=text2[0].string\n",
    "        name=soup.select('p.name')\n",
    "        b=name[0].string\n",
    "        feature=soup.select('article')\n",
    "        a=feature[0].string\n",
    "        import datetime\n",
    "        today=datetime.datetime.now().date()\n",
    "        content+=\"{}\\t{}\\t{}\\t{}\\n\".format(b,today,date,a)\n",
    "        print(content)"
   ]
  },
  {
   "cell_type": "code",
   "execution_count": 29,
   "metadata": {},
   "outputs": [],
   "source": [
    "Twelve =['摩羯座',' 水瓶座','雙魚座','牡羊座','金牛座','雙子座','巨蟹座','獅子座','處女座','天秤座','天蠍座','射手座']"
   ]
  },
  {
   "cell_type": "code",
   "execution_count": 33,
   "metadata": {},
   "outputs": [
    {
     "name": "stdout",
     "output_type": "stream",
     "text": [
      "https://www.daily-zodiac.com/mobile/zodiac/巨蟹座\n"
     ]
    }
   ],
   "source": [
    "data=6\n",
    "for x in Twelve[data]:\n",
    "        target_url = \"https://www.daily-zodiac.com/mobile/zodiac/\"+Twelve[data]\n",
    "print(target_url)"
   ]
  },
  {
   "cell_type": "code",
   "execution_count": 31,
   "metadata": {},
   "outputs": [
    {
     "ename": "NameError",
     "evalue": "name '對應list索引位置' is not defined",
     "output_type": "error",
     "traceback": [
      "\u001b[1;31m---------------------------------------------------------------------------\u001b[0m",
      "\u001b[1;31mNameError\u001b[0m                                 Traceback (most recent call last)",
      "\u001b[1;32m<ipython-input-31-fe85a3bdfbe8>\u001b[0m in \u001b[0;36m<module>\u001b[1;34m()\u001b[0m\n\u001b[0;32m      1\u001b[0m \u001b[0mi\u001b[0m\u001b[1;33m=\u001b[0m\u001b[1;34m'巨蟹座'\u001b[0m\u001b[1;33m;\u001b[0m\u001b[1;33m\u001b[0m\u001b[0m\n\u001b[1;32m----> 2\u001b[1;33m \u001b[0mp\u001b[0m\u001b[1;33m=\u001b[0m\u001b[0mTwelve\u001b[0m\u001b[1;33m.\u001b[0m\u001b[0mindex\u001b[0m\u001b[1;33m(\u001b[0m\u001b[0mi\u001b[0m\u001b[1;33m)\u001b[0m \u001b[1;33m//\u001b[0m\u001b[0m對應list索引位置\u001b[0m\u001b[1;33m\u001b[0m\u001b[0m\n\u001b[0m\u001b[0;32m      3\u001b[0m \u001b[0mprint\u001b[0m\u001b[1;33m(\u001b[0m\u001b[0mp\u001b[0m\u001b[1;33m)\u001b[0m\u001b[1;33m\u001b[0m\u001b[0m\n",
      "\u001b[1;31mNameError\u001b[0m: name '對應list索引位置' is not defined"
     ]
    }
   ],
   "source": [
    "i='巨蟹座';\n",
    "p=Twelve.index(i) //對應list索引位置\n",
    "print(p)"
   ]
  },
  {
   "cell_type": "code",
   "execution_count": null,
   "metadata": {},
   "outputs": [],
   "source": [
    "for i in Twelve:\n",
    "    x=x.append(i)"
   ]
  }
 ],
 "metadata": {
  "kernelspec": {
   "display_name": "Python 3",
   "language": "python",
   "name": "python3"
  },
  "language_info": {
   "codemirror_mode": {
    "name": "ipython",
    "version": 3
   },
   "file_extension": ".py",
   "mimetype": "text/x-python",
   "name": "python",
   "nbconvert_exporter": "python",
   "pygments_lexer": "ipython3",
   "version": "3.6.5"
  }
 },
 "nbformat": 4,
 "nbformat_minor": 2
}
