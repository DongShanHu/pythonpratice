{
 "cells": [
  {
   "cell_type": "code",
   "execution_count": 1,
   "metadata": {},
   "outputs": [
    {
     "name": "stdout",
     "output_type": "stream",
     "text": [
      "<class 'pandas.core.frame.DataFrame'>\n"
     ]
    },
    {
     "name": "stderr",
     "output_type": "stream",
     "text": [
      "D:\\Anaconda\\lib\\site-packages\\ipykernel_launcher.py:13: DeprecationWarning: \n",
      ".ix is deprecated. Please use\n",
      ".loc for label based indexing or\n",
      ".iloc for positional indexing\n",
      "\n",
      "See the documentation here:\n",
      "http://pandas.pydata.org/pandas-docs/stable/indexing.html#ix-indexer-is-deprecated\n",
      "  del sys.path[0]\n",
      "D:\\Anaconda\\lib\\site-packages\\ipykernel_launcher.py:17: FutureWarning: currently extract(expand=None) means expand=False (return Index/Series/DataFrame) but in a future version of pandas this will be changed to expand=True (return DataFrame)\n"
     ]
    }
   ],
   "source": [
    "import pandas\n",
    "import requests \n",
    "from bs4 import BeautifulSoup\n",
    "from urllib.request import urlretrieve\n",
    "import re\n",
    "\n",
    "\n",
    "#台銀匯率網址\n",
    "dfs = pandas.read_html(\"http://rate.bot.com.tw/xrt?Lang=zh-TW\")\n",
    "#取dsf的list 資料\n",
    "currency = dfs[0]\n",
    "#只取前五欄\n",
    "currency = currency.ix[:,0:5]\n",
    "#重新命名欄位名稱 u-utf\n",
    "currency.columns = [u'幣別',u'現金匯率-本行買入',u'現金匯率-本行賣出',u'即期匯率-本行買入',u'即期匯率-本行賣出']\n",
    "#幣別值有重複字 利用正規式取英文代號\n",
    "currency[u'幣別'] = currency[u'幣別'].str.extract('\\((\\w+)\\)')\n",
    "#將結果輸出到excel\n",
    "currency.to_excel('D:\\download\\currency.xlsx')\n",
    "print(type(currency))\n",
    "\n"
   ]
  },
  {
   "cell_type": "code",
   "execution_count": 11,
   "metadata": {},
   "outputs": [
    {
     "name": "stdout",
     "output_type": "stream",
     "text": [
      "0        USD　:　29.41，29.95229.71，29.81\n",
      "1         HKD　:　3.646，3.8363.761，3.821\n",
      "2          GBP　:　39.21，41.1440.08，40.5\n",
      "3         AUD　:　22.13，22.7922.32，22.55\n",
      "4         CAD　:　22.95，23.6923.22，23.44\n",
      "5         SGD　:　21.76，22.5422.18，22.36\n",
      "6         CHF　:　28.99，30.0529.52，29.81\n",
      "7     JPY　:　0.2638，0.27480.2702，0.2742\n",
      "8                   ZAR　:　-，-2.37，2.45\n",
      "9               SEK　:　3.06，3.573.4，3.5\n",
      "10         NZD　:　20.4，21.0320.64，20.84\n",
      "11    THB　:　0.8276，0.97060.9161，0.9561\n",
      "12              PHP　:　0.4966，0.6296-，-\n",
      "13            IDR　:　0.00178，0.00248-，-\n",
      "14         EUR　:　34.75，35.935.25，35.65\n",
      "15            KRW　:　0.02609，0.02999-，-\n",
      "16            VND　:　0.00093，0.00143-，-\n",
      "17                MYR　:　6.441，8.071-，-\n",
      "18        CNY　:　4.602，4.7644.674，4.724\n"
     ]
    },
    {
     "name": "stderr",
     "output_type": "stream",
     "text": [
      "D:\\Anaconda\\lib\\site-packages\\ipykernel_launcher.py:14: DeprecationWarning: \n",
      ".ix is deprecated. Please use\n",
      ".loc for label based indexing or\n",
      ".iloc for positional indexing\n",
      "\n",
      "See the documentation here:\n",
      "http://pandas.pydata.org/pandas-docs/stable/indexing.html#ix-indexer-is-deprecated\n",
      "  \n",
      "D:\\Anaconda\\lib\\site-packages\\ipykernel_launcher.py:18: FutureWarning: currently extract(expand=None) means expand=False (return Index/Series/DataFrame) but in a future version of pandas this will be changed to expand=True (return DataFrame)\n"
     ]
    }
   ],
   "source": [
    "import pandas\n",
    "import requests \n",
    "from bs4 import BeautifulSoup\n",
    "from urllib.request import urlretrieve\n",
    "import re\n",
    "\n",
    "\n",
    "content=\"\"\n",
    "#台銀匯率網址\n",
    "dfs = pandas.read_html(\"http://rate.bot.com.tw/xrt?Lang=zh-TW\")\n",
    "#取dsf的list 資料\n",
    "currency = dfs[0]\n",
    "#只取前五欄\n",
    "currency = currency.ix[:,0:5]\n",
    "#重新命名欄位名稱 u-utf\n",
    "currency.columns = [u'幣別',u'現金匯率-本行買入',u'現金匯率-本行賣出',u'即期匯率-本行買入',u'即期匯率-本行賣出']\n",
    "#幣別值有重複字 利用正規式取英文代號\n",
    "currency[u'幣別'] = currency[u'幣別'].str.extract('\\((\\w+)\\)')\n",
    "#print(currency['幣別'])\n",
    "content =currency[u'幣別']+\"　:　\"+currency[u'現金匯率-本行買入']+\"，\"+currency[u'現金匯率-本行賣出']+currency[u'即期匯率-本行買入']+\"，\"+currency[u'即期匯率-本行賣出']\n",
    "a=pandas.Series.to_string(content)\n",
    "\n",
    "\n",
    "print(a)\n",
    "#print(\"今日匯率:{}\\t\\t\\n{}\".format(currency[u'幣別'],currency[u'現金匯率-本行賣出']))\n",
    "\n"
   ]
  },
  {
   "cell_type": "code",
   "execution_count": 10,
   "metadata": {},
   "outputs": [
    {
     "name": "stderr",
     "output_type": "stream",
     "text": [
      "IOPub data rate exceeded.\n",
      "The notebook server will temporarily stop sending output\n",
      "to the client in order to avoid crashing it.\n",
      "To change this limit, set the config variable\n",
      "`--NotebookApp.iopub_data_rate_limit`.\n"
     ]
    }
   ],
   "source": [
    "import requests\n",
    "import json\n",
    "\n",
    "#抓Rank200內的資料\n",
    "def rank_200():\n",
    "        req = requests.request('GET', 'https://api.coinmarketcap.com/v1/ticker/?convert=TWD')\n",
    "        req2 = requests.request('GET', 'https://api.coinmarketcap.com/v1/ticker/?convert=TWD&start=100&limit=100')\n",
    "        data = json.loads(req.text)\n",
    "        for coin in json.loads(req2.text):\n",
    "            data.append(coin)\n",
    "            print(data)\n",
    "\n",
    "rank_200()\n"
   ]
  },
  {
   "cell_type": "code",
   "execution_count": null,
   "metadata": {
    "collapsed": true
   },
   "outputs": [],
   "source": [
    "#取得一小時內漲與跌最大的幣種(以Rank為範圍)\n",
    "#num取排行的數量、group_size為rank的範圍\n",
    "def rising_and_falling(data,top_size,rank_size):\n",
    "\tnew_data=data[:(rank_size-1)]\n",
    "\tnewlist = sorted(new_data, key=lambda x: (float(x[\"percent_change_1h\"]) >= 0, (float(x[\"percent_change_1h\"])))) \n",
    "\treturn list(reversed(newlist[-(top_size):])),list(reversed(newlist[:top_size]))\n",
    "\n",
    "#取得特定幣種資訊 filters放入幣種簡稱\n",
    "def selected_group(data,sets):\n",
    "\tselected=[]\n",
    "\trecognized=[]\n",
    "\tfor coin in data:\n",
    "\t\tfor name in sets:\n",
    "\t\t\tif coin['symbol']==name:\n",
    "\t\t\t\tselected.append(coin)\n",
    "\t\t\t\trecognized.append(name)\n",
    "\tfor name in sets:\n",
    "\t\tif name not in recognized:\n",
    "\t\t\tprint(\"Alert: Unknown\",name)\n",
    "\treturn selected\n",
    "\n",
    "\n",
    "rank_200()\n",
    "rising_and_falling(data,top_size,rank_size)\n",
    "selected_group(data,sets)"
   ]
  }
 ],
 "metadata": {
  "kernelspec": {
   "display_name": "Python 3",
   "language": "python",
   "name": "python3"
  },
  "language_info": {
   "codemirror_mode": {
    "name": "ipython",
    "version": 3
   },
   "file_extension": ".py",
   "mimetype": "text/x-python",
   "name": "python",
   "nbconvert_exporter": "python",
   "pygments_lexer": "ipython3",
   "version": "3.6.5"
  }
 },
 "nbformat": 4,
 "nbformat_minor": 2
}
