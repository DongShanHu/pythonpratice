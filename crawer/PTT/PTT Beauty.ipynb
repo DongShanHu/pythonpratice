{
 "cells": [
  {
   "cell_type": "code",
   "execution_count": 4,
   "metadata": {},
   "outputs": [
    {
     "name": "stdout",
     "output_type": "stream",
     "text": [
      "2382\n",
      "2381\n",
      "2380\n",
      "2379\n",
      "2378\n",
      "有近來\n",
      "有近來\n",
      "有近來\n",
      "有近來\n",
      "有近來\n",
      "有近來\n",
      "有近來\n",
      "有近來\n",
      "有近來\n",
      "有近來\n",
      "有近來\n",
      "有近來\n",
      "有近來\n",
      "有近來\n",
      "有近來\n",
      "有近來\n",
      "有近來\n",
      "有近來\n",
      "有近來\n",
      "有近來\n",
      "有近來\n",
      "有近來\n",
      "有近來\n",
      "有近來\n",
      "有近來\n",
      "有近來\n",
      "有近來\n",
      "有近來\n",
      "有近來\n",
      "有近來\n",
      "有近來\n",
      "有近來\n",
      "有近來\n",
      "有近來\n",
      "有近來\n",
      "有近來\n",
      "有近來\n",
      "有近來\n",
      "有近來\n",
      "有近來\n",
      "有近來\n",
      "有近來\n",
      "有近來\n",
      "有近來\n",
      "有近來\n",
      "有近來\n",
      "有近來\n",
      "有近來\n",
      "有近來\n",
      "有近來\n",
      "有近來\n",
      "有近來\n",
      "有近來\n",
      "有近來\n",
      "有近來\n",
      "有近來\n",
      "有近來\n",
      "有近來\n",
      "有近來\n",
      "有近來\n",
      "有近來\n",
      "有近來\n",
      "有近來\n",
      "有近來\n",
      "有近來\n",
      "有近來\n",
      "有近來\n",
      "有近來\n",
      "有近來\n",
      "有近來\n",
      "有近來\n",
      "有近來\n",
      "有近來\n",
      "有近來\n",
      "有近來\n",
      "有近來\n",
      "有近來\n",
      "有近來\n",
      "有近來\n",
      "有近來\n",
      "有近來\n",
      "有近來\n",
      "有近來\n",
      "有近來\n",
      "有近來\n",
      "有近來\n",
      "有近來\n",
      "有近來\n",
      "有近來\n",
      "有近來\n",
      "有近來\n",
      "有近來\n",
      "有近來\n",
      "有近來\n",
      "有近來\n",
      "有近來\n",
      "有近來\n",
      "有近來\n",
      "有近來\n",
      "有近來\n",
      "有近來\n",
      "有近來\n",
      "有近來\n",
      "有近來\n",
      "有近來\n",
      "有近來\n",
      "有近來\n",
      "有近來\n",
      "有近來\n",
      "有近來\n",
      "有近來\n",
      "有近來\n",
      "有近來\n",
      "有近來\n",
      "有近來\n",
      "有近來\n",
      "有近來\n",
      "有近來\n",
      "有近來\n",
      "有近來\n",
      "有近來\n",
      "有近來\n",
      "有近來\n",
      "有近來\n",
      "有近來\n",
      "有近來\n",
      "有近來\n",
      "有近來\n",
      "有近來\n",
      "有近來\n",
      "有近來\n",
      "有近來\n"
     ]
    }
   ],
   "source": [
    "import requests \n",
    "from bs4 import BeautifulSoup\n",
    "from urllib.request import urlretrieve\n",
    "import re\n",
    "\n",
    "#目標頁面\n",
    "for i in range (2382,2377,-1):\n",
    "    res = requests.get('https://www.ptt.cc/bbs/Beauty/index{0}.html'.format(i))\n",
    "    soup = BeautifulSoup(res.text, 'lxml')\n",
    "    print(format(i))\n",
    "#使用迴圈進入到目標頁面中的每個主題頁面\n",
    "for article in soup.select('.r-ent a'):\n",
    "        url = 'https://www.ptt.cc' + article['href']\n",
    "        res = requests.get(url)\n",
    "        soup = BeautifulSoup(res.text, 'lxml')\n",
    "        #判斷網址中有沒有圖片，如果有就開始下載\n",
    "        # https://i.imgur.com/RrQJ4Oe.jpg\n",
    "        #if len(soup.findAll('a', {'href':re.compile('https:///i.imgur.com/.*')})) > 0:\n",
    "        if len(soup.findAll('a', {'href':re.compile('https:\\/\\/i\\.imgur\\.com\\/.*')})) > 0:\n",
    "            for index, img_url in enumerate(soup.findAll('a', {'href':re.compile('https:\\/\\/i\\.imgur\\.com\\/.*')})):\n",
    "                try:                 \n",
    "                        #更改想要下載到的位置\n",
    "                    #urlretrieve(img_url['href'], 'D:\\download\\picture\\{}_{}.jpg'.format(article.text, index))\n",
    "                    urlretrieve(img_url['href'], 'D:\\download\\image\\{}_{}.jpg'.format(article.text, index))\n",
    "                    print(\"有近來\")\n",
    "                except:\n",
    "                    print('{} {}_{}.jpg 下載失敗!'.format(img_url['href'], article.text, index))\n"
   ]
  },
  {
   "cell_type": "code",
   "execution_count": null,
   "metadata": {
    "collapsed": true
   },
   "outputs": [],
   "source": []
  },
  {
   "cell_type": "code",
   "execution_count": null,
   "metadata": {
    "collapsed": true
   },
   "outputs": [],
   "source": []
  },
  {
   "cell_type": "code",
   "execution_count": null,
   "metadata": {
    "collapsed": true
   },
   "outputs": [],
   "source": []
  },
  {
   "cell_type": "code",
   "execution_count": null,
   "metadata": {
    "collapsed": true
   },
   "outputs": [],
   "source": []
  },
  {
   "cell_type": "code",
   "execution_count": null,
   "metadata": {
    "collapsed": true
   },
   "outputs": [],
   "source": []
  },
  {
   "cell_type": "code",
   "execution_count": null,
   "metadata": {
    "collapsed": true
   },
   "outputs": [],
   "source": []
  },
  {
   "cell_type": "code",
   "execution_count": null,
   "metadata": {
    "collapsed": true
   },
   "outputs": [],
   "source": []
  },
  {
   "cell_type": "code",
   "execution_count": null,
   "metadata": {
    "collapsed": true
   },
   "outputs": [],
   "source": []
  }
 ],
 "metadata": {
  "kernelspec": {
   "display_name": "Python 3",
   "language": "python",
   "name": "python3"
  },
  "language_info": {
   "codemirror_mode": {
    "name": "ipython",
    "version": 3
   },
   "file_extension": ".py",
   "mimetype": "text/x-python",
   "name": "python",
   "nbconvert_exporter": "python",
   "pygments_lexer": "ipython3",
   "version": "3.6.3"
  }
 },
 "nbformat": 4,
 "nbformat_minor": 2
}
