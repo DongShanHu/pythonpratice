{
 "cells": [
  {
   "cell_type": "code",
   "execution_count": 1,
   "metadata": {},
   "outputs": [
    {
     "name": "stdout",
     "output_type": "stream",
     "text": [
      "[<div class=\"title\">\n",
      "<a href=\"/bbs/NBA/M.1542589722.A.503.html\">Re: [討論] 所以反過來 甜瓜要怎樣才能讓大家滿意</a>\n",
      "</div>, <div class=\"title\">\n",
      "<a href=\"/bbs/NBA/M.1542590879.A.040.html\">[BOX ] Lakers 113:97 Heat 數據</a>\n",
      "</div>, <div class=\"title\">\n",
      "<a href=\"/bbs/NBA/M.1542591179.A.F7F.html\">[BOX ] Knicks 117:131 Magic 數據</a>\n",
      "</div>, <div class=\"title\">\n",
      "<a href=\"/bbs/NBA/M.1542591792.A.CDB.html\">[BOX ] Blazers 119:109 Wizards 數據</a>\n",
      "</div>, <div class=\"title\">\n",
      "<a href=\"/bbs/NBA/M.1542593883.A.69D.html\">[BOX ] Warriors 92:104 Spurs 數據</a>\n",
      "</div>, <div class=\"title\">\n",
      "<a href=\"/bbs/NBA/M.1542594028.A.E69.html\">[討論] 有人覺得現在的勇士有像當年的熱火嗎</a>\n",
      "</div>, <div class=\"title\">\n",
      "<a href=\"/bbs/NBA/M.1542594411.A.362.html\">[情報] NBA Standings (2018.11.19)</a>\n",
      "</div>, <div class=\"title\">\n",
      "<a href=\"/bbs/NBA/M.1542594783.A.5DB.html\">[新聞] 梅歐帶進NBA風 練完留下再練投籃</a>\n",
      "</div>, <div class=\"title\">\n",
      "<a href=\"/bbs/NBA/M.1542594836.A.AF1.html\">[討論] 現在的LBJ是不是依舊強於KD</a>\n",
      "</div>, <div class=\"title\">\n",
      "<a href=\"/bbs/NBA/M.1542595093.A.FBE.html\">[討論] 得分手的定義是什麼？</a>\n",
      "</div>, <div class=\"title\">\n",
      "<a href=\"/bbs/NBA/M.1542595325.A.C47.html\">[花邊] 詹姆斯狂飆51分  連創多項個人紀錄</a>\n",
      "</div>, <div class=\"title\">\n",
      "<a href=\"/bbs/NBA/M.1542595906.A.4D9.html\">[花邊] Rondo在場邊擔任助理教練</a>\n",
      "</div>, <div class=\"title\">\n",
      "<a href=\"/bbs/NBA/M.1542596485.A.CBD.html\">[花邊] Rondo:教練要我安靜點</a>\n",
      "</div>, <div class=\"title\">\n",
      "<a href=\"/bbs/NBA/M.1542596584.A.878.html\">[討論] kd是不是改變了勇士的球風</a>\n",
      "</div>, <div class=\"title\">\n",
      "<a href=\"/bbs/NBA/M.1504521964.A.8F9.html\">[公告] 板規v6.2</a>\n",
      "</div>, <div class=\"title\">\n",
      "<a href=\"/bbs/NBA/M.1540961222.A.F52.html\">[情報] SEASON Schedule 賽程 November 18–19</a>\n",
      "</div>, <div class=\"title\">\n",
      "<a href=\"/bbs/NBA/M.1542527158.A.C93.html\">[情報] NBA Standings (2018.11.18)</a>\n",
      "</div>]\n"
     ]
    }
   ],
   "source": [
    "import requests\n",
    "from bs4 import BeautifulSoup\n",
    "article_href = []\n",
    "r = requests.get(\"https://www.ptt.cc/bbs/NBA/index.html\")\n",
    "soup = BeautifulSoup(r.text,\"html.parser\")\n",
    "results = soup.select(\"div.title\")\n",
    "print(results)"
   ]
  },
  {
   "cell_type": "code",
   "execution_count": 2,
   "metadata": {},
   "outputs": [
    {
     "name": "stdout",
     "output_type": "stream",
     "text": [
      "['/bbs/NBA/M.1542589722.A.503.html', '/bbs/NBA/M.1542590879.A.040.html', '/bbs/NBA/M.1542591179.A.F7F.html', '/bbs/NBA/M.1542591792.A.CDB.html', '/bbs/NBA/M.1542593883.A.69D.html', '/bbs/NBA/M.1542594028.A.E69.html', '/bbs/NBA/M.1542594411.A.362.html', '/bbs/NBA/M.1542594783.A.5DB.html', '/bbs/NBA/M.1542594836.A.AF1.html', '/bbs/NBA/M.1542595093.A.FBE.html', '/bbs/NBA/M.1542595325.A.C47.html', '/bbs/NBA/M.1542595906.A.4D9.html', '/bbs/NBA/M.1542596485.A.CBD.html', '/bbs/NBA/M.1542596584.A.878.html', '/bbs/NBA/M.1504521964.A.8F9.html', '/bbs/NBA/M.1540961222.A.F52.html', '/bbs/NBA/M.1542527158.A.C93.html']\n"
     ]
    }
   ],
   "source": [
    "# 存進LIST\n",
    "for item in results:\n",
    "    item_href = item.select_one(\"a\").get(\"href\")\n",
    "    article_href.append(item_href)\n",
    "print(article_href)\n"
   ]
  },
  {
   "cell_type": "code",
   "execution_count": 3,
   "metadata": {},
   "outputs": [
    {
     "name": "stdout",
     "output_type": "stream",
     "text": [
      "https://www.ptt.cc/bbs/NBA/index6350.html\n"
     ]
    }
   ],
   "source": [
    "#切頁\n",
    "# 右上角有一個<上頁的按鈕，對它點擊右鍵>檢查\n",
    "btn = soup.select('div.btn-group > a')\n",
    "up_page_href = btn[3]['href']\n",
    "next_page_url = 'https://www.ptt.cc' + up_page_href\n",
    "print(next_page_url)"
   ]
  },
  {
   "cell_type": "code",
   "execution_count": 5,
   "metadata": {},
   "outputs": [
    {
     "name": "stdout",
     "output_type": "stream",
     "text": [
      "https://www.ptt.cc/bbs/NBA/index6350.html\n",
      "https://www.ptt.cc/bbs/NBA/index6349.html\n",
      "https://www.ptt.cc/bbs/NBA/index6348.html\n"
     ]
    }
   ],
   "source": [
    "# for抓幾頁\n",
    "url=\"https://www.ptt.cc/bbs/NBA/index.html\"\n",
    "for page in range(1,4):\n",
    "    r = requests.get(url)\n",
    "    soup = BeautifulSoup(r.text,\"html.parser\")\n",
    "    btn = soup.select('div.btn-group > a')\n",
    "    up_page_href = btn[3]['href']\n",
    "    next_page_url = 'https://www.ptt.cc' + up_page_href\n",
    "    url = next_page_url\n",
    "    print(url)"
   ]
  },
  {
   "cell_type": "markdown",
   "metadata": {},
   "source": [
    "整理"
   ]
  },
  {
   "cell_type": "code",
   "execution_count": 8,
   "metadata": {},
   "outputs": [
    {
     "name": "stdout",
     "output_type": "stream",
     "text": [
      "\n",
      "[新聞] 杜蘭特加盟湖人？球評：詹皇已老\n",
      " https://www.ptt.cc/bbs/NBA/M.1542551309.A.ED1.html\n",
      "\n",
      "[情報] 2018-19 CBA第13輪：NBA+台灣球員數據\n",
      " https://www.ptt.cc/bbs/NBA/M.1542551828.A.1A5.html\n",
      "\n",
      "[公告] NBA 樂透開獎\n",
      " https://www.ptt.cc/bbs/NBA/M.1542551919.A.9D6.html\n",
      "\n",
      "[情報] ★今日排名(2018.11.18)★\n",
      " https://www.ptt.cc/bbs/NBA/M.1542552033.A.6E0.html\n",
      "\n",
      "[討論] 當初為何Mayo跟Ellis都想不開離開Mavs\n",
      " https://www.ptt.cc/bbs/NBA/M.1542552291.A.E92.html\n",
      "\n",
      "[情報] Curry：我不會讓球隊文化因為一次事件而\n",
      " https://www.ptt.cc/bbs/NBA/M.1542552613.A.70E.html\n",
      "\n",
      "[花邊] 華克60分之夜 僅次艾佛森 史上第二矮\n",
      " https://www.ptt.cc/bbs/NBA/M.1542552678.A.387.html\n",
      "\n",
      "[新聞] 舞王最新力作 終場前無意義欺騙對手拿2分\n",
      " https://www.ptt.cc/bbs/NBA/M.1542552779.A.E86.html\n",
      "\n",
      "[公告] NBA 板 開始舉辦樂透!\n",
      " https://www.ptt.cc/bbs/NBA/M.1542553102.A.3DC.html\n",
      "\n",
      "Re: [花邊] 詹皇生涯3度轉隊巧合 前15場戰績皆相同\n",
      " https://www.ptt.cc/bbs/NBA/M.1542553174.A.089.html\n",
      "\n",
      "[新聞] 三核心啟動「勝利方程式」 火箭喜迎4連勝\n",
      " https://www.ptt.cc/bbs/NBA/M.1542554292.A.E4C.html\n",
      "\n",
      "[新聞] 0.3秒三分致勝 Butler：不想看Kemba得70\n",
      " https://www.ptt.cc/bbs/NBA/M.1542556057.A.2E5.html\n",
      "\n",
      "[情報] Kevin Durant談Doncic: 我非常喜歡他\n",
      " https://www.ptt.cc/bbs/NBA/M.1542556747.A.E04.html\n",
      "\n",
      "Re: [專欄] 下一站在哪？中年失業的Carmelo Anthony\n",
      " https://www.ptt.cc/bbs/NBA/M.1542558220.A.174.html\n",
      "\n",
      "[Live] 灰熊 @ 灰狼\n",
      " https://www.ptt.cc/bbs/NBA/M.1542571203.A.6F2.html\n",
      "\n",
      "[Live] 湖人 @ 熱火\n",
      " https://www.ptt.cc/bbs/NBA/M.1542580203.A.055.html\n",
      "\n",
      "[討論] LBJ歷年切入出手比例與命中率\n",
      " https://www.ptt.cc/bbs/NBA/M.1542581125.A.6D7.html\n",
      "\n",
      "[BOX ] Grizzlies 100:87 Timberwolves 數據\n",
      " https://www.ptt.cc/bbs/NBA/M.1542581304.A.E62.html\n",
      "\n",
      "[Live] 勇士 @ 馬刺\n",
      " https://www.ptt.cc/bbs/NBA/M.1542583803.A.362.html\n",
      "\n",
      "[情報] Russell Westbrook老婆生下雙胞胎女兒\n",
      " https://www.ptt.cc/bbs/NBA/M.1542585500.A.61F.html\n",
      "\n",
      "Re: [討論] D.Jordan 是不是早該去小牛隊？\n",
      " https://www.ptt.cc/bbs/NBA/M.1542521685.A.761.html\n",
      "\n",
      "[花邊] Ball:Rondo在訓練中一直對我噴垃圾話\n",
      " https://www.ptt.cc/bbs/NBA/M.1542522449.A.3A1.html\n",
      "\n",
      "[新聞] SBL》NBA選秀探花梅奧處女秀 有望與台啤\n",
      " https://www.ptt.cc/bbs/NBA/M.1542526409.A.76B.html\n",
      "\n",
      "[情報] NBA Standings (2018.11.18)\n",
      " https://www.ptt.cc/bbs/NBA/M.1542527158.A.C93.html\n",
      "\n",
      "[專欄] 下一站在哪？中年失業的Carmelo Anthony\n",
      " https://www.ptt.cc/bbs/NBA/M.1542530450.A.273.html\n",
      "\n",
      "Fw: [新聞] 梅奧重磅登場　體能未達顛峰出賽時間依\n",
      " https://www.ptt.cc/bbs/NBA/M.1542530618.A.D78.html\n",
      "\n",
      "[討論] 主將沒驗傷報告宣稱受傷，背後原因為何\n",
      " https://www.ptt.cc/bbs/NBA/M.1542530792.A.1CE.html\n",
      "\n",
      "[新聞] 唐西奇關鍵拋投弄哭勇迷　卡帥神回爆他料\n",
      " https://www.ptt.cc/bbs/NBA/M.1542531129.A.205.html\n",
      "\n",
      "[情報] 老鷹不定期週報03-少一點比較吧\n",
      " https://www.ptt.cc/bbs/NBA/M.1542531497.A.503.html\n",
      "\n",
      "[專欄] 大膽開刀！巫師為何不考慮交易John Wall\n",
      " https://www.ptt.cc/bbs/NBA/M.1542538819.A.933.html\n",
      "\n",
      "Re: [情報] 國王管理層跟Joerger出現意見分歧\n",
      " https://www.ptt.cc/bbs/NBA/M.1542539106.A.13F.html\n",
      "\n",
      "[花邊] Klay Thompson談失利：這並不是世界末日\n",
      " https://www.ptt.cc/bbs/NBA/M.1542543975.A.10E.html\n",
      "\n",
      "[討論] Kemba Walker下一份合約應該在什麼等級\n",
      " https://www.ptt.cc/bbs/NBA/M.1542544799.A.C20.html\n",
      "\n",
      "[新聞] 最大咖洋將登場！梅奧差強人意　達欣首\n",
      " https://www.ptt.cc/bbs/NBA/M.1542545128.A.DFB.html\n",
      "\n",
      "Re: [討論] 所以反過來 甜瓜要怎樣才能讓大家滿意\n",
      " https://www.ptt.cc/bbs/NBA/M.1542547126.A.2F4.html\n",
      "\n",
      "[討論] 現在好像很少人戴這個護具\n",
      " https://www.ptt.cc/bbs/NBA/M.1542549016.A.97F.html\n",
      "\n",
      "[花邊] 詹皇生涯3度轉隊巧合 前15場戰績皆相同\n",
      " https://www.ptt.cc/bbs/NBA/M.1542549625.A.931.html\n",
      "\n",
      "Re: [討論] 所以反過來 甜瓜要怎樣才能讓大家滿意\n",
      " https://www.ptt.cc/bbs/NBA/M.1542550863.A.6E8.html\n"
     ]
    }
   ],
   "source": [
    "# 如果 a_item:是因為可能會有文章刪除或不存在的可能，會得到None，所以需要先確認a_item是有值的，我們才取href。\n",
    "import requests\n",
    "from bs4 import BeautifulSoup\n",
    "url=\"https://www.ptt.cc/bbs/NBA/index.html\"\n",
    "\n",
    "def get_all_href(url):\n",
    "    r = requests.get(url)\n",
    "    soup = BeautifulSoup(r.text, \"html.parser\")\n",
    "    results = soup.select(\"div.title\")\n",
    "    for item in results:\n",
    "        a_item = item.select_one(\"a\")\n",
    "        title = item.text\n",
    "        if a_item:\n",
    "            print(title, 'https://www.ptt.cc'+ a_item.get('href'))\n",
    "        \n",
    "for page in range(1,3):\n",
    "    r = requests.get(url)\n",
    "    soup = BeautifulSoup(r.text,\"html.parser\")\n",
    "    btn = soup.select('div.btn-group > a')\n",
    "    up_page_href = btn[3]['href']\n",
    "    next_page_url = 'https://www.ptt.cc' + up_page_href\n",
    "    url = next_page_url\n",
    "    get_all_href(url = url)"
   ]
  },
  {
   "cell_type": "code",
   "execution_count": null,
   "metadata": {},
   "outputs": [],
   "source": []
  }
 ],
 "metadata": {
  "kernelspec": {
   "display_name": "Python 3",
   "language": "python",
   "name": "python3"
  },
  "language_info": {
   "codemirror_mode": {
    "name": "ipython",
    "version": 3
   },
   "file_extension": ".py",
   "mimetype": "text/x-python",
   "name": "python",
   "nbconvert_exporter": "python",
   "pygments_lexer": "ipython3",
   "version": "3.6.5"
  }
 },
 "nbformat": 4,
 "nbformat_minor": 2
}
