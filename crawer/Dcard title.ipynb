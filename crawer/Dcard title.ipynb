{
 "cells": [
  {
   "cell_type": "code",
   "execution_count": 17,
   "metadata": {},
   "outputs": [
    {
     "name": "stdout",
     "output_type": "stream",
     "text": [
      "1 . 頂太深（微西斯\n",
      "2 . （更#桃園某私立學校教育事件\n",
      "3 . 男友妹一直跟我要東西\n",
      "4 . 6點20分沒妳打電話叫我起床\n",
      "5 . (更新)我的底妝勻，透，亮 手法和小技巧  #分享 #文長 #步驟\n",
      "6 . 只有男孩才會懂\n",
      "7 . #履歷表#自傳#面試                                                                                  \n",
      "如何行銷自己，爭取面試與工作機會?\n",
      "8 . 男友被爸爸訓了一頓\n",
      "9 . 我爸是邊緣郭董系😂😂\n",
      "10 . 黑特 麥當勞雞塊沒熟\n",
      "11 . 該廢掉收取服務費\n",
      "12 . (微更)可…可惡！直男室友各種撩我\n",
      "13 . #What’s in my room 小鹿控X強迫症的房間😅\n",
      "14 . #更#分享  好吃泡麵在這裡\n",
      "15 . 壽司眼妝🍣\n"
     ]
    }
   ],
   "source": [
    "import requests\n",
    "import re\n",
    "from bs4 import BeautifulSoup\n",
    "\n",
    "# Dcard 的今日熱門文章區塊, 然後取得前十篇熱門文章的標題 \n",
    "def main():\n",
    "    resp = requests.get('https://www.dcard.tw/f')\n",
    "    soup = BeautifulSoup(resp.text, 'html.parser')\n",
    "    content=\"\"\n",
    "    i=0\n",
    "    Posts = []\n",
    "    for data in soup.find_all('div',{'class': re.compile('^PostEntry_content')}):\n",
    "        title=data.h3\n",
    "      \n",
    "        print(i+1,'.',title.text)\n",
    "        i = i+1\n",
    "        if i >= 15: break      \n",
    "        content += '{}\\n'.format(title)\n",
    "    return content\n",
    "    print(content)\n",
    "\n",
    "#   for i in range(0, 10, +1):\n",
    "#   print(i+1,'.',Posts[i])\n",
    "\n",
    "\n",
    "if __name__ == '__main__':\n",
    "    main()"
   ]
  },
  {
   "cell_type": "code",
   "execution_count": null,
   "metadata": {
    "collapsed": true
   },
   "outputs": [],
   "source": []
  },
  {
   "cell_type": "code",
   "execution_count": null,
   "metadata": {
    "collapsed": true
   },
   "outputs": [],
   "source": []
  }
 ],
 "metadata": {
  "kernelspec": {
   "display_name": "Python 3",
   "language": "python",
   "name": "python3"
  },
  "language_info": {
   "codemirror_mode": {
    "name": "ipython",
    "version": 3
   },
   "file_extension": ".py",
   "mimetype": "text/x-python",
   "name": "python",
   "nbconvert_exporter": "python",
   "pygments_lexer": "ipython3",
   "version": "3.6.3"
  }
 },
 "nbformat": 4,
 "nbformat_minor": 2
}
